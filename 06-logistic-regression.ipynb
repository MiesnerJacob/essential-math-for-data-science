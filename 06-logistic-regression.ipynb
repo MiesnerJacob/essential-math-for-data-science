{
 "cells": [
  {
   "cell_type": "markdown",
   "metadata": {},
   "source": [
    "# Chapter 06: Logistic Regression"
   ]
  },
  {
   "cell_type": "code",
   "execution_count": 168,
   "metadata": {},
   "outputs": [],
   "source": [
    "import math\n",
    "import sympy\n",
    "import scipy\n",
    "import pandas as pd\n",
    "from sklearn.linear_model import LogisticRegression\n",
    "from sklearn.model_selection import KFold, cross_val_score\n",
    "from sklearn.model_selection import train_test_split\n",
    "from sklearn.metrics import confusion_matrix, accuracy_score\n",
    "import matplotlib.pyplot as plt\n",
    "import seaborn as sns"
   ]
  },
  {
   "cell_type": "markdown",
   "metadata": {},
   "source": [
    "## Concepts"
   ]
  },
  {
   "cell_type": "markdown",
   "metadata": {},
   "source": [
    "### Logistic Function"
   ]
  },
  {
   "cell_type": "code",
   "execution_count": 114,
   "metadata": {},
   "outputs": [
    {
     "data": {
      "text/plain": [
       "0.09948141142901543"
      ]
     },
     "execution_count": 114,
     "metadata": {},
     "output_type": "execute_result"
    }
   ],
   "source": [
    "# The logistic function in python for one independent variable\n",
    "\n",
    "def predict_probability(x, b0, b1):\n",
    "    return 1 / (1 + math.exp(-(b0 + b1 * x)))\n",
    "\n",
    "predict_probability(1, -2.823, 0.620)"
   ]
  },
  {
   "cell_type": "code",
   "execution_count": 115,
   "metadata": {},
   "outputs": [
    {
     "data": {
      "image/png": "[encoded data removed]",
      "text/plain": [
       "<Figure size 640x480 with 1 Axes>"
      ]
     },
     "metadata": {},
     "output_type": "display_data"
    },
    {
     "data": {
      "text/plain": [
       "<sympy.plotting.plot.Plot at 0x12c705490>"
      ]
     },
     "execution_count": 115,
     "metadata": {},
     "output_type": "execute_result"
    }
   ],
   "source": [
    "# Using sympy to plot a logistic function\n",
    "\n",
    "b0, b1, x = sympy.symbols(\"bo b1 x\")\n",
    "\n",
    "p = 1 / (1 + sympy.exp(-(b0 + b1 * x)))\n",
    "\n",
    "p = p.subs(b0, -2.823)\n",
    "p = p.subs(b1, 0.620)\n",
    "\n",
    "sympy.plot(p)"
   ]
  },
  {
   "cell_type": "markdown",
   "metadata": {},
   "source": [
    "### Fitting Logistic Curve"
   ]
  },
  {
   "cell_type": "code",
   "execution_count": 116,
   "metadata": {},
   "outputs": [
    {
     "name": "stdout",
     "output_type": "stream",
     "text": [
      "Coefficient: 0.6926721243460743\n",
      "Intercept: -3.1757639467271686\n"
     ]
    }
   ],
   "source": [
    "# Using a plain logistic regression in scipy\n",
    "\n",
    "df = pd.read_csv(\"https://bit.ly/33ebs2R\", delimiter=\",\")\n",
    "\n",
    "X = df.values[:, :-1]\n",
    "Y = df.values[:, -1]\n",
    "\n",
    "model = LogisticRegression(penalty=None)\n",
    "model.fit(X, Y)\n",
    "\n",
    "print(f\"Coefficient: {model.coef_.flatten()[0]}\")\n",
    "print(f\"Intercept: {model.intercept_[0]}\")"
   ]
  },
  {
   "cell_type": "code",
   "execution_count": 117,
   "metadata": {},
   "outputs": [
    {
     "name": "stdout",
     "output_type": "stream",
     "text": [
      "4.7911180221699105e-05\n"
     ]
    }
   ],
   "source": [
    "# Calculating the joint likelihood of observing all the points for a given logistic regression\n",
    "\n",
    "patient_data = pd.read_csv(\"https://bit.ly/33ebs2R\", delimiter=\",\").itertuples()\n",
    "\n",
    "b0 = -3.17576395\n",
    "b1 = 0.69267212\n",
    "\n",
    "def logistic_function(x):\n",
    "    return 1 / (1 + math.exp(-(b0 + b1 * x)))\n",
    "\n",
    "joint_likelihood = 1.0\n",
    "\n",
    "for p in patient_data:\n",
    "    if p.y == 1:\n",
    "        joint_likelihood *= logistic_function(p.x)\n",
    "    elif p.y == 0:\n",
    "        joint_likelihood *= (1 - logistic_function(p.x))\n",
    "    else:\n",
    "        raise ValueError(\"Class must be binary.\")\n",
    "\n",
    "print(joint_likelihood)"
   ]
  },
  {
   "cell_type": "code",
   "execution_count": 118,
   "metadata": {},
   "outputs": [
    {
     "name": "stdout",
     "output_type": "stream",
     "text": [
      "4.7911180221699105e-05\n"
     ]
    }
   ],
   "source": [
    "# Compressing the joint likelihood calculation without an if expression\n",
    "\n",
    "patient_data = pd.read_csv(\"https://bit.ly/33ebs2R\", delimiter=\",\").itertuples()\n",
    "\n",
    "b0 = -3.17576395\n",
    "b1 = 0.69267212\n",
    "\n",
    "def logistic_function(x):\n",
    "    p = 1.0 / (1.0 + math.exp(-(b0 + b1 * x)))\n",
    "    return p\n",
    "\n",
    "joint_likelihood = 1.0\n",
    "\n",
    "for p in patient_data:\n",
    "    joint_likelihood *= logistic_function(p.x) ** p.y * \\\n",
    "    (1 - logistic_function(p.x)) ** (1 - p.y)\n",
    "\n",
    "print(joint_likelihood)"
   ]
  },
  {
   "cell_type": "code",
   "execution_count": 119,
   "metadata": {},
   "outputs": [
    {
     "name": "stdout",
     "output_type": "stream",
     "text": [
      "4.791118022169896e-05\n"
     ]
    }
   ],
   "source": [
    "# Calculating joint likelihood using logarithmic addition\n",
    "\n",
    "patient_data = pd.read_csv(\"https://bit.ly/33ebs2R\", delimiter=\",\").itertuples()\n",
    "\n",
    "b0 = -3.17576395\n",
    "b1 = 0.69267212\n",
    "\n",
    "def logistic_function(x):\n",
    "    p = 1.0 / (1.0 + math.exp(-(b0 + b1 * x)))\n",
    "    return p\n",
    "\n",
    "joint_likelihood = 0.0\n",
    "\n",
    "for p in patient_data:\n",
    "    joint_likelihood += math.log(logistic_function(p.x) ** p.y * \\\n",
    "    (1.0 - logistic_function(p.x)) ** (1.0 - p.y))\n",
    "\n",
    "joint_likelihood = math.exp(joint_likelihood)\n",
    "\n",
    "print(joint_likelihood)"
   ]
  },
  {
   "cell_type": "code",
   "execution_count": 121,
   "metadata": {},
   "outputs": [
    {
     "name": "stdout",
     "output_type": "stream",
     "text": [
      "Coefficient: 0.6926693075370812\n",
      "Intercept: -3.175751550409821\n"
     ]
    }
   ],
   "source": [
    "# Using gradient descent on logistic regression\n",
    "\n",
    "points = list(pd.read_csv(\"https://tinyurl.com/y2cocoo7\").itertuples())\n",
    "\n",
    "b1, b0, i, n = sympy.symbols(\"b1 b0 i n\")\n",
    "x, y = sympy.symbols(\"x y\", cls=sympy.Function)\n",
    "\n",
    "joint_likelihood = sympy.Sum(sympy.log((1.0 / (1.0 + sympy.exp(-(b0 + b1 * x(i)))))**y(i) * \\\n",
    "\t(1.0 - (1.0 / (1.0 + sympy.exp(-(b0 + b1 * x(i))))))**(1-y(i))), (i, 0, n))\n",
    "\n",
    "# Calculate partial derivatives\n",
    "d_b1 = sympy.diff(joint_likelihood, b1) \\\n",
    "    .subs(n, len(points) -1).doit() \\\n",
    "    .replace(x, lambda i: points[i].x) \\\n",
    "    .replace(y, lambda i: points[i].y)\n",
    "\n",
    "d_b0 = sympy.diff(joint_likelihood, b0) \\\n",
    "    .subs(n, len(points) -1).doit() \\\n",
    "    .replace(x, lambda i: points[i].x) \\\n",
    "    .replace(y, lambda i: points[i].y)\n",
    "\n",
    "# compile using lambdify for faster computation\n",
    "d_b1 = sympy.lambdify([b1, b0], d_b1)\n",
    "d_b0 = sympy.lambdify([b1, b0], d_b0)\n",
    "\n",
    "# Training\n",
    "b1 = 0.01\n",
    "b0 = 0.01\n",
    "learning_rate = 0.01\n",
    "iterations = 10000\n",
    "\n",
    "for i in range(iterations):\n",
    "    b1 += d_b1(b1, b0) * learning_rate\n",
    "    b0 += d_b0(b1, b0) * learning_rate\n",
    "\n",
    "print(f\"Coefficient: {b1}\")\n",
    "print(f\"Intercept: {b0}\")"
   ]
  },
  {
   "cell_type": "markdown",
   "metadata": {},
   "source": [
    "### Multivariable Logistic Regression"
   ]
  },
  {
   "cell_type": "code",
   "execution_count": 136,
   "metadata": {},
   "outputs": [
    {
     "name": "stdout",
     "output_type": "stream",
     "text": [
      "Coefficients: [ 0.03213405  0.03682453 -2.50410028  0.9742266 ]\n",
      "Intercept: -2.7348530152205615\n",
      "WILL STAY: 0.99994\n"
     ]
    }
   ],
   "source": [
    "# Doing a multivariable logisitc regression on employee data\n",
    "\n",
    "df = pd.read_csv(\"https://tinyurl.com/y6r7qjrp\")\n",
    "\n",
    "X = df.iloc[:, :-1]\n",
    "Y = df.iloc[:, -1]\n",
    "\n",
    "model = LogisticRegression(penalty=None)\n",
    "fit = model.fit(X, Y)\n",
    "\n",
    "print(f\"Coefficients: {model.coef_.flatten()}\")\n",
    "print(f\"Intercept: {model.intercept_[0]}\")\n",
    "\n",
    "def predict_employee_will_stay(sex, age, promotions, years_employed):\n",
    "    input_data = pd.DataFrame([[sex, age, promotions, years_employed]], columns=X.columns)\n",
    "    prediction = fit.predict(input_data)\n",
    "    probabilities = fit.predict_proba(input_data)\n",
    "    if prediction == [[1]]:\n",
    "        return \"WILL LEAVE: {0}\".format(round(probabilities[0][1],5))\n",
    "    else:\n",
    "        return \"WILL STAY: {0}\".format(round(probabilities[0][0], 5))\n",
    "\n",
    "prediction_1 = predict_employee_will_stay(\n",
    "    sex=1,\n",
    "    age=30,\n",
    "    promotions=6,\n",
    "    years_employed=7\n",
    ")\n",
    "print(prediction_1)"
   ]
  },
  {
   "cell_type": "markdown",
   "metadata": {},
   "source": [
    "### R-Squared"
   ]
  },
  {
   "cell_type": "code",
   "execution_count": 139,
   "metadata": {},
   "outputs": [
    {
     "name": "stdout",
     "output_type": "stream",
     "text": [
      "-9.946161673231583\n"
     ]
    }
   ],
   "source": [
    "# Calculating the log likelihood of the fit\n",
    "\n",
    "patient_data = pd.read_csv('https://bit.ly/33ebs2R', delimiter=\",\").itertuples()\n",
    "\n",
    "b0 = -3.17576395\n",
    "b1 = 0.69267212\n",
    "\n",
    "def logistic_function(x):\n",
    "    p = 1.0 / (1.0 + math.exp(-(b0 + b1 * x)))\n",
    "    return p\n",
    "\n",
    "log_likelihood_fit = 0.0\n",
    "\n",
    "for p in patient_data:\n",
    "    if p.y == 1.0:\n",
    "        log_likelihood_fit += math.log(logistic_function(p.x))\n",
    "    elif p.y == 0.0:\n",
    "        log_likelihood_fit += math.log(1.0 - logistic_function(p.x))\n",
    "    else:\n",
    "        raise ValueError(\"Class must be binary.\")\n",
    "\n",
    "print(log_likelihood_fit)"
   ]
  },
  {
   "cell_type": "code",
   "execution_count": 140,
   "metadata": {},
   "outputs": [
    {
     "name": "stdout",
     "output_type": "stream",
     "text": [
      "-9.946161673231583\n"
     ]
    }
   ],
   "source": [
    "# Consolidating our log likelihood to a single line\n",
    "\n",
    "patient_data = pd.read_csv('https://bit.ly/33ebs2R', delimiter=\",\").itertuples()\n",
    "\n",
    "b0 = -3.17576395\n",
    "b1 = 0.69267212\n",
    "\n",
    "def logistic_function(x):\n",
    "    p = 1.0 / (1.0 + math.exp(-(b0 + b1 * x)))\n",
    "    return p\n",
    "\n",
    "log_likelihood_fit = sum(math.log(logistic_function(p.x)) * p.y +\n",
    "                         math.log(1.0 - logistic_function(p.x)) * (1.0 - p.y)\n",
    "                         for p in patient_data)\n",
    "\n",
    "print(log_likelihood_fit)"
   ]
  },
  {
   "cell_type": "code",
   "execution_count": 141,
   "metadata": {},
   "outputs": [
    {
     "name": "stdout",
     "output_type": "stream",
     "text": [
      "-14.341070198709906\n"
     ]
    }
   ],
   "source": [
    "# Log likelihood of patients\n",
    "\n",
    "patient_data = list(pd.read_csv('https://bit.ly/33ebs2R', delimiter=\",\") \\\n",
    "     .itertuples())\n",
    "\n",
    "likelihood = sum(p.y for p in patient_data) / len(patient_data)\n",
    "\n",
    "log_likelihood = 0\n",
    "\n",
    "for p in patient_data:\n",
    "    if p.y == 1.0:\n",
    "        log_likelihood += math.log(likelihood)\n",
    "    elif p.y == 0.0:\n",
    "        log_likelihood += math.log(1.0 - likelihood)\n",
    "    else:\n",
    "        raise ValueError(\"Class must be binary.\")\n",
    "\n",
    "print(log_likelihood)"
   ]
  },
  {
   "cell_type": "code",
   "execution_count": 144,
   "metadata": {},
   "outputs": [
    {
     "name": "stdout",
     "output_type": "stream",
     "text": [
      "-14.341070198709906\n"
     ]
    }
   ],
   "source": [
    "# Consolidating the log likelihood into a single line\n",
    "\n",
    "patient_data = list(pd.read_csv('https://bit.ly/33ebs2R', delimiter=\",\") \\\n",
    "     .itertuples())\n",
    "\n",
    "likelihood = sum(p.y for p in patient_data) / len(patient_data)\n",
    "\n",
    "log_likelihood = sum(math.log(likelihood)*p.y + math.log(1.0 - likelihood)*(1.0 - p.y) \\\n",
    "\tfor p in patient_data)\n",
    "\n",
    "print(log_likelihood)"
   ]
  },
  {
   "cell_type": "code",
   "execution_count": 145,
   "metadata": {},
   "outputs": [
    {
     "name": "stdout",
     "output_type": "stream",
     "text": [
      "r^2: 0.306456105756576\n"
     ]
    }
   ],
   "source": [
    "# Calculating the r^2 for logistic regression\n",
    "\n",
    "patient_data = list(pd.read_csv('https://bit.ly/33ebs2R', delimiter=\",\") \\\n",
    "                                .itertuples())\n",
    "\n",
    "b0 = -3.17576395\n",
    "b1 = 0.69267212\n",
    "\n",
    "def logistic_function(x):\n",
    "    p = 1.0 / (1.0 + math.exp(-(b0 + b1 * x)))\n",
    "    return p\n",
    "\n",
    "# Calculate components for r^2 formula\n",
    "log_likelihood_fit = sum(math.log(logistic_function(p.x)) * p.y +\n",
    "                         math.log(1.0 - logistic_function(p.x)) * (1.0 - p.y)\n",
    "                         for p in patient_data)\n",
    "\n",
    "likelihood = sum(p.y for p in patient_data) / len(patient_data)\n",
    "\n",
    "log_likelihood = sum(math.log(likelihood) * p.y + math.log(1.0 - likelihood) * (1.0 - p.y) \\\n",
    "\tfor p in patient_data)\n",
    "\n",
    "\n",
    "r2 = (log_likelihood - log_likelihood_fit) / log_likelihood\n",
    "\n",
    "print(f\"r^2: {r2}\")"
   ]
  },
  {
   "cell_type": "markdown",
   "metadata": {},
   "source": [
    "### P-Values"
   ]
  },
  {
   "cell_type": "code",
   "execution_count": 149,
   "metadata": {},
   "outputs": [
    {
     "name": "stdout",
     "output_type": "stream",
     "text": [
      "0.0016604875618753787\n"
     ]
    }
   ],
   "source": [
    "# Calculating a p-value for a given logistic regression\n",
    "\n",
    "patient_data = list(pd.read_csv('https://bit.ly/33ebs2R', delimiter=\",\").itertuples())\n",
    "\n",
    "b0 = -3.17576395\n",
    "b1 = 0.69267212\n",
    "\n",
    "def logistic_function(x):\n",
    "    p = 1.0 / (1.0 + math.exp(-(b0 + b1 * x)))\n",
    "    return p\n",
    "\n",
    "# Calculate chi-squared components\n",
    "log_likelihood_fit = sum(math.log(logistic_function(p.x)) * p.y +\n",
    "                         math.log(1.0 - logistic_function(p.x)) * (1.0 - p.y)\n",
    "                         for p in patient_data)\n",
    "\n",
    "likelihood = sum(p.y for p in patient_data) / len(patient_data)\n",
    "\n",
    "log_likelihood = sum(math.log(likelihood) * p.y + math.log(1.0 - likelihood) * (1.0 - p.y) \\\n",
    "                     for p in patient_data)\n",
    "\n",
    "# Calculate P-value\n",
    "chi2_input = 2 * (log_likelihood_fit - log_likelihood)\n",
    "p_value = scipy.stats.chi2.pdf(chi2_input, 1)\n",
    "\n",
    "print(p_value)"
   ]
  },
  {
   "cell_type": "markdown",
   "metadata": {},
   "source": [
    "### Train/Test Splits"
   ]
  },
  {
   "cell_type": "code",
   "execution_count": 174,
   "metadata": {},
   "outputs": [
    {
     "name": "stdout",
     "output_type": "stream",
     "text": [
      "Accuracy Mean: 0.667 (stdev=0.045)\n"
     ]
    }
   ],
   "source": [
    "# Performing logistic regression with a three-fold cross-validation\n",
    "\n",
    "df = pd.read_csv(\"https://tinyurl.com/y6r7qjrp\", delimiter=\",\")\n",
    "\n",
    "X = df.values[:, :-1]\n",
    "Y = df.values[:, -1]\n",
    "\n",
    "kfold = KFold(n_splits=3, random_state=42, shuffle=True)\n",
    "model = LogisticRegression(penalty=None)\n",
    "results = cross_val_score(model, X, Y, cv=kfold)\n",
    "\n",
    "print(\"Accuracy Mean: %.3f (stdev=%.3f)\" % (results.mean(), results.std()))"
   ]
  },
  {
   "cell_type": "markdown",
   "metadata": {},
   "source": [
    "### Confusion Matrices"
   ]
  },
  {
   "cell_type": "code",
   "execution_count": 163,
   "metadata": {},
   "outputs": [
    {
     "data": {
      "image/png": "[encoded data removed]",
      "text/plain": [
       "<Figure size 500x400 with 1 Axes>"
      ]
     },
     "metadata": {},
     "output_type": "display_data"
    }
   ],
   "source": [
    "# Creating a confusion matrix for a testing dataset in scipy\n",
    "\n",
    "df = pd.read_csv('https://bit.ly/3cManTi', delimiter=\",\")\n",
    "\n",
    "X = df.values[:, :-1]\n",
    "Y = df.values[:, -1]\n",
    "\n",
    "model = LogisticRegression(solver='liblinear')\n",
    "\n",
    "X_train, X_test, Y_train, Y_test = train_test_split(X, Y, test_size=.33, random_state=42)\n",
    "model.fit(X_train, Y_train)\n",
    "\n",
    "prediction = model.predict(X_test)\n",
    "matrix = confusion_matrix(y_true=Y_test, y_pred=prediction)\n",
    "\n",
    "# Plot\n",
    "plt.figure(figsize=(5, 4))\n",
    "sns.heatmap(matrix, annot=True, fmt=\"d\", cmap=\"Blues\", cbar=False, annot_kws={\"size\": 16})\n",
    "plt.title(\"Confusion Matrix\", fontsize=18)\n",
    "plt.xlabel(\"Predicted Label\", fontsize=14)\n",
    "plt.ylabel(\"True Label\", fontsize=14)\n",
    "plt.show()"
   ]
  },
  {
   "cell_type": "markdown",
   "metadata": {},
   "source": [
    "### Reciever Operator Characteristic/Area Under Curve"
   ]
  },
  {
   "cell_type": "code",
   "execution_count": 175,
   "metadata": {},
   "outputs": [
    {
     "name": "stdout",
     "output_type": "stream",
     "text": [
      "AUC: 0.728 (0.106)\n"
     ]
    }
   ],
   "source": [
    "# Using the AUC as the scikit-learn parameter\n",
    "\n",
    "df = pd.read_csv(\"https://tinyurl.com/y6r7qjrp\", delimiter=\",\")\n",
    "\n",
    "X = df.values[:, :-1]\n",
    "Y = df.values[:, -1]\n",
    "\n",
    "kfold = KFold(n_splits=3, random_state=42, shuffle=True)\n",
    "model = LogisticRegression(penalty=None)\n",
    "results = cross_val_score(model, X, Y, cv=kfold, scoring=\"roc_auc\")\n",
    "\n",
    "print(\"AUC: %.3f (%.3f)\" % (results.mean(), results.std()))"
   ]
  },
  {
   "cell_type": "markdown",
   "metadata": {},
   "source": [
    "### Class Imbalance"
   ]
  },
  {
   "cell_type": "code",
   "execution_count": 169,
   "metadata": {},
   "outputs": [
    {
     "name": "stdout",
     "output_type": "stream",
     "text": [
      "Coefficient: 0.5244050744725895\n",
      "Intercept: -2.380441875689146\n",
      "Accuracy: 0.857\n"
     ]
    }
   ],
   "source": [
    "# Using the stratify option in scikit-learn to balance classes in the data\n",
    "\n",
    "df = pd.read_csv(\"https://bit.ly/33ebs2R\", delimiter=\",\")\n",
    "\n",
    "X = df.values[:, :-1]\n",
    "Y = df.values[:, -1]\n",
    "\n",
    "X_train, X_test, Y_train, Y_test = train_test_split(X, Y, test_size=0.33, random_state=42, stratify=Y)\n",
    "\n",
    "model = LogisticRegression(penalty=None)\n",
    "model.fit(X_train, Y_train)\n",
    "\n",
    "Y_pred = model.predict(X_test)\n",
    "accuracy = accuracy_score(Y_test, Y_pred)\n",
    "\n",
    "print(f\"Coefficient: {model.coef_.flatten()[0]}\")\n",
    "print(f\"Intercept: {model.intercept_[0]}\")\n",
    "print(f\"Accuracy: {accuracy:.3f}\")"
   ]
  },
  {
   "cell_type": "markdown",
   "metadata": {},
   "source": [
    "## Code Exercises"
   ]
  },
  {
   "cell_type": "code",
   "execution_count": 195,
   "metadata": {},
   "outputs": [
    {
     "name": "stdout",
     "output_type": "stream",
     "text": [
      "Accuracy Mean: 0.999 (stdev=0.002)\n"
     ]
    }
   ],
   "source": [
    "# Exercise 6-1 (Perform logistic regression)\n",
    "\n",
    "df = pd.read_csv(\"https://bit.ly/3imidqa\", delimiter=\",\")\n",
    "\n",
    "X = df.values[:, :-1]\n",
    "Y = df.values[:, -1]\n",
    "\n",
    "kfold = KFold(n_splits=3, random_state=0, shuffle=True)\n",
    "model = LogisticRegression(penalty=None)\n",
    "results = cross_val_score(model, X, Y, cv=kfold)\n",
    "\n",
    "print(\"Accuracy Mean: %.3f (stdev=%.3f)\" % (results.mean(), results.std()))"
   ]
  },
  {
   "cell_type": "code",
   "execution_count": 196,
   "metadata": {},
   "outputs": [
    {
     "data": {
      "image/png": "[encoded data removed]",
      "text/plain": [
       "<Figure size 500x400 with 1 Axes>"
      ]
     },
     "metadata": {},
     "output_type": "display_data"
    }
   ],
   "source": [
    "# Exercise 6-2 (Product a confision matrix)\n",
    "\n",
    "df = pd.read_csv(\"https://bit.ly/3imidqa\", delimiter=\",\")\n",
    "\n",
    "X = df.values[:, :-1]\n",
    "Y = df.values[:, -1]\n",
    "\n",
    "model = LogisticRegression(solver='liblinear')\n",
    "\n",
    "X_train, X_test, Y_train, Y_test = train_test_split(X, Y, test_size=.33, random_state=0)\n",
    "model.fit(X_train, Y_train)\n",
    "\n",
    "prediction = model.predict(X_test)\n",
    "matrix = confusion_matrix(y_true=Y_test, y_pred=prediction)\n",
    "\n",
    "# Plot\n",
    "plt.figure(figsize=(5, 4))\n",
    "sns.heatmap(matrix, annot=True, fmt=\"d\", cmap=\"Blues\", cbar=False, annot_kws={\"size\": 16})\n",
    "plt.title(\"Confusion Matrix\", fontsize=18)\n",
    "plt.xlabel(\"Predicted Label\", fontsize=14)\n",
    "plt.ylabel(\"True Label\", fontsize=14)\n",
    "plt.show()"
   ]
  },
  {
   "cell_type": "code",
   "execution_count": 197,
   "metadata": {},
   "outputs": [
    {
     "name": "stdout",
     "output_type": "stream",
     "text": [
      "Red background: light\n",
      "Green background: dark\n",
      "Blue background: light\n",
      "Yellow background: dark\n"
     ]
    }
   ],
   "source": [
    "# Exercise 6-3 (Inference on new data points via trained model)\n",
    "\n",
    "red = [[255, 0, 0]]\n",
    "green = [[0, 255, 0]]\n",
    "blue = [[0, 0, 255]]\n",
    "yellow = [[255, 255, 0]]\n",
    "\n",
    "def convert_prediction(pred):\n",
    "    labels = {\n",
    "        0: \"light\",\n",
    "        1: \"dark\"\n",
    "    }\n",
    "    return labels[pred[0]]\n",
    "\n",
    "red_background_prediction = model.predict(red)\n",
    "green_background_prediction = model.predict(green)\n",
    "blue_background_prediction = model.predict(blue)\n",
    "yellow_background_prediction = model.predict(yellow)\n",
    "print(\"Red background:\", convert_prediction(red_background_prediction))\n",
    "print(\"Green background:\", convert_prediction(green_background_prediction))\n",
    "print(\"Blue background:\", convert_prediction(blue_background_prediction))\n",
    "print(\"Yellow background:\", convert_prediction(yellow_background_prediction))"
   ]
  },
  {
   "cell_type": "code",
   "execution_count": 198,
   "metadata": {},
   "outputs": [
    {
     "name": "stdout",
     "output_type": "stream",
     "text": [
      "Logistic regression performs extremely well on this classification task. It has little error on our dataset when evaluated in a confusion matrix with a train/test split, and also on cross-valdiation.\n"
     ]
    }
   ],
   "source": [
    "# Exercise 6-4 (Is logistic regression effective for this task?)\n",
    "\n",
    "print(\"Logistic regression performs extremely well on this classification task. It has little error on our dataset when evaluated in a confusion matrix with a train/test split, and also on cross-valdiation.\")"
   ]
  }
 ],
 "metadata": {
  "kernelspec": {
   "display_name": "Python 3 (ipykernel)",
   "language": "python",
   "name": "python3"
  },
  "language_info": {
   "codemirror_mode": {
    "name": "ipython",
    "version": 3
   },
   "file_extension": ".py",
   "mimetype": "text/x-python",
   "name": "python",
   "nbconvert_exporter": "python",
   "pygments_lexer": "ipython3",
   "version": "3.8.6"
  }
 },
 "nbformat": 4,
 "nbformat_minor": 2
}
