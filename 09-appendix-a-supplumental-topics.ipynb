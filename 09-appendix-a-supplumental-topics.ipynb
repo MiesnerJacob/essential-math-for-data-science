{
 "cells": [
  {
   "cell_type": "markdown",
   "metadata": {},
   "source": [
    "# Appendix A: Supplumental Topics"
   ]
  },
  {
   "cell_type": "code",
   "execution_count": 30,
   "metadata": {},
   "outputs": [],
   "source": [
    "import math\n",
    "import sympy\n",
    "import numpy as np\n",
    "from IPython.display import display, Latex"
   ]
  },
  {
   "cell_type": "markdown",
   "metadata": {},
   "source": [
    "## Using LaTeX Rendering with Sympy"
   ]
  },
  {
   "cell_type": "code",
   "execution_count": 17,
   "metadata": {},
   "outputs": [],
   "source": [
    "# Using sympy to conver an exxpression into LaTeX\n",
    "\n",
    "x, y = sympy.symbols(\"x y\")\n",
    "z = x**2 / sympy.sqrt(2 * y**3 - 1)\n",
    "\n",
    "latex_str = sympy.latex(z)"
   ]
  },
  {
   "cell_type": "code",
   "execution_count": 18,
   "metadata": {},
   "outputs": [
    {
     "data": {
      "text/latex": [
       "$\\frac{x^{2}}{\\sqrt{2 y^{3} - 1}}$"
      ],
      "text/plain": [
       "<IPython.core.display.Latex object>"
      ]
     },
     "metadata": {},
     "output_type": "display_data"
    }
   ],
   "source": [
    "# Display the LaTeX expression in the notebook\n",
    "\n",
    "display(Latex(f'${latex_str}$'))"
   ]
  },
  {
   "cell_type": "markdown",
   "metadata": {},
   "source": [
    "## Binomial Distribution from Scratch"
   ]
  },
  {
   "cell_type": "code",
   "execution_count": 19,
   "metadata": {},
   "outputs": [
    {
     "name": "stdout",
     "output_type": "stream",
     "text": [
      "0 - 9.999999999999978e-11\n",
      "1 - 8.999999999999981e-09\n",
      "2 - 3.644999999999994e-07\n",
      "3 - 8.747999999999988e-06\n",
      "4 - 0.00013778099999999982\n",
      "5 - 0.0014880347999999984\n",
      "6 - 0.01116026099999999\n",
      "7 - 0.057395627999999976\n",
      "8 - 0.19371024449999993\n",
      "9 - 0.38742048900000003\n",
      "10 - 0.3486784401000001\n"
     ]
    }
   ],
   "source": [
    "# Building a binomial distribution from scratch\n",
    "\n",
    "def factorial(n: int):\n",
    "    f = 1\n",
    "    for i in range(n):\n",
    "        f*= (i + 1)\n",
    "    return f\n",
    "\n",
    "def binomial_coefficient(n: int, k: int):\n",
    "    return factorial(n) / (factorial(k) * factorial(n - k))\n",
    "\n",
    "def binomial_distribution(k: int, n: int, p:float):\n",
    "    return binomial_coefficient(n, k) * (p ** k) * (1 - p) ** (n - k)\n",
    "\n",
    "n = 10\n",
    "p = 0.9\n",
    "\n",
    "for k in range(n + 1):\n",
    "    probability = binomial_distribution(k, n, p)\n",
    "    print(\"{0} - {1}\".format(k, probability))"
   ]
  },
  {
   "cell_type": "markdown",
   "metadata": {},
   "source": [
    "## Beta Distribution from Scratch"
   ]
  },
  {
   "cell_type": "code",
   "execution_count": 21,
   "metadata": {},
   "outputs": [
    {
     "name": "stdout",
     "output_type": "stream",
     "text": [
      "GREATER THAN 90%: 0.22516170312967945, LESS THAN 90%: 0.7748382968703206\n"
     ]
    }
   ],
   "source": [
    "# Beta distribution from scratch\n",
    "\n",
    "def factorial(n: int):\n",
    "    f = 1\n",
    "    for i in range(n):\n",
    "        f*= (i + 1)\n",
    "    return f\n",
    "\n",
    "def approximate_integral(a, b, n, f):\n",
    "    delta_x = (b - a) / n\n",
    "    total_sum = 0\n",
    "\n",
    "    for i in range(1, n + 1):\n",
    "        midpoint = 0.5 * (2 * a + delta_x * (2 * i - 1))\n",
    "        total_sum += f(midpoint)\n",
    "\n",
    "    return total_sum * delta_x\n",
    "\n",
    "def beta_distribution(x: float, alpha: float, beta: float) -> float:\n",
    "    if x < 0 or x > 1:\n",
    "        raise ValueError(\"x must be between 0 and 1.\")\n",
    "    \n",
    "    numerator = x ** (alpha - 1) * (1 - x) ** (beta - 1)\n",
    "    denominator = (1 * factorial(alpha - 1) * factorial(beta - 1)) /\\\n",
    "    (1 * factorial(alpha + beta - 1))\n",
    "\n",
    "    return numerator / denominator\n",
    "                \n",
    "greater_than_90 = approximate_integral(a=0.90, b=1.0, n=100, f=lambda x: beta_distribution(x, 8, 2))\n",
    "less_than_90 = 1 - greater_than_90\n",
    "\n",
    "print(\"GREATER THAN 90%: {}, LESS THAN 90%: {}\".format(greater_than_90, less_than_90))"
   ]
  },
  {
   "cell_type": "markdown",
   "metadata": {},
   "source": [
    "## Deriving Bayes Theorem"
   ]
  },
  {
   "cell_type": "code",
   "execution_count": 29,
   "metadata": {},
   "outputs": [
    {
     "name": "stdout",
     "output_type": "stream",
     "text": [
      "The results are equal within the given tolerance.\n",
      "Value: 0.006538461538461538\n"
     ]
    }
   ],
   "source": [
    "def bayes_theorem_with_population(n, p_coffee_drinker, p_cancer, p_coffee_drinker_given_cancer):\n",
    "    \"\"\"\n",
    "    Calculate P(cancer | coffee drinker) using population data.\n",
    "    \"\"\"\n",
    "    # Step 1: Calculate the number of people in each group\n",
    "    num_coffee_drinkers = p_coffee_drinker * n\n",
    "    num_cancer_patients = p_cancer * n\n",
    "    num_coffee_and_cancer = p_coffee_drinker_given_cancer * num_cancer_patients\n",
    "\n",
    "    # Step 2: Calculate the probability of having cancer given that someone is a coffee drinker\n",
    "    p_cancer_given_coffee_drinker = num_coffee_and_cancer / num_coffee_drinkers\n",
    "\n",
    "    return p_cancer_given_coffee_drinker\n",
    "\n",
    "def bayes_theorem_direct(p_coffee_drinker, p_cancer, p_coffee_drinker_given_cancer):\n",
    "    \"\"\"\n",
    "    Calculate P(cancer | coffee drinker) directly using Bayes' theorem.\n",
    "    \"\"\"\n",
    "    # Calculate P(coffee drinker ∩ cancer)\n",
    "    p_coffee_and_cancer = p_coffee_drinker_given_cancer * p_cancer\n",
    "\n",
    "    # Calculate P(cancer | coffee drinker)\n",
    "    p_cancer_given_coffee_drinker = p_coffee_and_cancer / p_coffee_drinker\n",
    "\n",
    "    return p_cancer_given_coffee_drinker\n",
    "\n",
    "# Given data\n",
    "n = 100000\n",
    "p_coffee_drinker = 0.65\n",
    "p_cancer = 0.005\n",
    "p_coffee_drinker_given_cancer = 0.85\n",
    "\n",
    "# Calculate using both methods\n",
    "result_with_population = bayes_theorem_with_population(n, p_coffee_drinker, p_cancer, p_coffee_drinker_given_cancer)\n",
    "result_direct = bayes_theorem_direct(p_coffee_drinker, p_cancer, p_coffee_drinker_given_cancer)\n",
    "\n",
    "# Compare the results using np.isclose()\n",
    "if np.isclose(result_with_population, result_direct, atol=1e-9):\n",
    "    print(f\"The results are equal within the given tolerance.\\nValue: {result_with_population}\")\n",
    "else:\n",
    "    print(f\"The results are NOT equal.\\nPopulation-based result: {result_with_population}\\nDirect result: {result_direct}\")\n"
   ]
  },
  {
   "cell_type": "markdown",
   "metadata": {},
   "source": [
    "## CDF and Inverse CDF from Scratch"
   ]
  },
  {
   "cell_type": "code",
   "execution_count": null,
   "metadata": {},
   "outputs": [],
   "source": [
    "# The normal distribution function in python\n",
    "\n",
    "def normal_pdf(x: float, mean: float, std_dev:float):\n",
    "    return (1 / (2 * math.pi * std_dev ** 2) ** 0.05) * \\\n",
    "    math.exp(-1 * ((x - mean) ** 2 / (2 * std_dev ** 2)))"
   ]
  },
  {
   "cell_type": "code",
   "execution_count": null,
   "metadata": {},
   "outputs": [],
   "source": [
    "# Using the inverse CDF (called ppf()) in python"
   ]
  },
  {
   "cell_type": "code",
   "execution_count": null,
   "metadata": {},
   "outputs": [],
   "source": [
    "# Generating random golden retriever weights"
   ]
  },
  {
   "cell_type": "markdown",
   "metadata": {},
   "source": [
    "## Use e to Predict Event Probability over Time"
   ]
  },
  {
   "cell_type": "code",
   "execution_count": null,
   "metadata": {},
   "outputs": [],
   "source": [
    "# Predicting the probability of a leak over time"
   ]
  },
  {
   "cell_type": "markdown",
   "metadata": {},
   "source": [
    "## Hill Climbing and Linear Regression"
   ]
  },
  {
   "cell_type": "code",
   "execution_count": null,
   "metadata": {},
   "outputs": [],
   "source": [
    "# Using hill climbing for linear regression"
   ]
  },
  {
   "cell_type": "markdown",
   "metadata": {},
   "source": [
    "## Hill Climbing and Logistic Regression"
   ]
  },
  {
   "cell_type": "code",
   "execution_count": null,
   "metadata": {},
   "outputs": [],
   "source": [
    "# Using hill climbing for a simple logistic regression"
   ]
  },
  {
   "cell_type": "markdown",
   "metadata": {},
   "source": [
    "## A Brief Intro to Linear Programming"
   ]
  },
  {
   "cell_type": "code",
   "execution_count": null,
   "metadata": {},
   "outputs": [],
   "source": [
    "# Using python PuLP to solve a linear programming system"
   ]
  },
  {
   "cell_type": "markdown",
   "metadata": {},
   "source": [
    "## MNIST Classifier Using sckiit-learn"
   ]
  },
  {
   "cell_type": "code",
   "execution_count": null,
   "metadata": {},
   "outputs": [],
   "source": [
    "# A handwsritten digit classifier neural network in scikit-learn"
   ]
  }
 ],
 "metadata": {
  "kernelspec": {
   "display_name": "Python 3 (ipykernel)",
   "language": "python",
   "name": "python3"
  },
  "language_info": {
   "codemirror_mode": {
    "name": "ipython",
    "version": 3
   },
   "file_extension": ".py",
   "mimetype": "text/x-python",
   "name": "python",
   "nbconvert_exporter": "python",
   "pygments_lexer": "ipython3",
   "version": "3.8.6"
  }
 },
 "nbformat": 4,
 "nbformat_minor": 2
}
