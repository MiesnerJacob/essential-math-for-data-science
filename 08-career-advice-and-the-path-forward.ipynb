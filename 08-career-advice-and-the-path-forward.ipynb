{
 "cells": [
  {
   "cell_type": "markdown",
   "metadata": {},
   "source": [
    "# Chapter 08: Career Advice and the Path Forward"
   ]
  },
  {
   "cell_type": "code",
   "execution_count": 4,
   "metadata": {},
   "outputs": [],
   "source": [
    "from sqlalchemy import create_engine, text\n",
    "import pandas as pd"
   ]
  },
  {
   "cell_type": "code",
   "execution_count": null,
   "metadata": {},
   "outputs": [],
   "source": [
    "# Example of an SQL query\n",
    "\n",
    "query = \"\"\"\n",
    "SELECT CUSTOMER_ID, NAME\n",
    "FROM CUSTOMER\n",
    "WHERE STATE = 'TX'\n",
    "\"\"\""
   ]
  },
  {
   "cell_type": "code",
   "execution_count": null,
   "metadata": {},
   "outputs": [],
   "source": [
    "# Executing a SQL command in python\n",
    "\n",
    "engine = create_engine('sqlite:///thunderbird_manufacturing.db')\n",
    "conn = engine.connect()\n",
    "\n",
    "stmt = text(\"SELECT * FROM CUSTOMER\")\n",
    "results = conn.execute(stmt)\n",
    "\n",
    "for customer in results:\n",
    "    print(customer)"
   ]
  },
  {
   "cell_type": "code",
   "execution_count": null,
   "metadata": {},
   "outputs": [],
   "source": [
    "# Executing a SQL command and storing the results in a Dataframe\n",
    "\n",
    "engine = create_engine('sqlite:///thunderbird_manufacturing.db')\n",
    "conn = engine.connect()\n",
    "\n",
    "df = pd.read_sql(\"SELECT * FROM CUSTOMER\", conn)\n",
    "df"
   ]
  }
 ],
 "metadata": {
  "kernelspec": {
   "display_name": "Python 3 (ipykernel)",
   "language": "python",
   "name": "python3"
  },
  "language_info": {
   "codemirror_mode": {
    "name": "ipython",
    "version": 3
   },
   "file_extension": ".py",
   "mimetype": "text/x-python",
   "name": "python",
   "nbconvert_exporter": "python",
   "pygments_lexer": "ipython3",
   "version": "3.8.6"
  }
 },
 "nbformat": 4,
 "nbformat_minor": 2
}
