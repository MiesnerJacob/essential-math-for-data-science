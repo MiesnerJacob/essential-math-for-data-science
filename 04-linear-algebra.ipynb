{
 "cells": [
  {
   "cell_type": "markdown",
   "metadata": {},
   "source": [
    "# Chapter 04: Linear Algebra"
   ]
  },
  {
   "cell_type": "markdown",
   "metadata": {},
   "source": [
    "## Concepts"
   ]
  },
  {
   "cell_type": "code",
   "execution_count": 115,
   "metadata": {},
   "outputs": [],
   "source": [
    "import numpy as np\n",
    "import scipy as sp\n",
    "import sympy"
   ]
  },
  {
   "cell_type": "markdown",
   "metadata": {},
   "source": [
    "### Vectors"
   ]
  },
  {
   "cell_type": "code",
   "execution_count": 68,
   "metadata": {},
   "outputs": [
    {
     "name": "stdout",
     "output_type": "stream",
     "text": [
      "[3, 2]\n"
     ]
    }
   ],
   "source": [
    "# Delcaring a vector using a python list\n",
    "\n",
    "v = [3, 2]\n",
    "print(v)"
   ]
  },
  {
   "cell_type": "code",
   "execution_count": 70,
   "metadata": {},
   "outputs": [
    {
     "name": "stdout",
     "output_type": "stream",
     "text": [
      "[3 2]\n"
     ]
    }
   ],
   "source": [
    "# Delcaring a vector in using numpy\n",
    "\n",
    "v = np.array([3, 2])\n",
    "print(v)"
   ]
  },
  {
   "cell_type": "code",
   "execution_count": 71,
   "metadata": {},
   "outputs": [
    {
     "name": "stdout",
     "output_type": "stream",
     "text": [
      "[4 1 2]\n"
     ]
    }
   ],
   "source": [
    "# Declaring a three-dimensional vector in python using numpy\n",
    "\n",
    "v = np.array([4, 1, 2])\n",
    "print(v)"
   ]
  },
  {
   "cell_type": "code",
   "execution_count": null,
   "metadata": {},
   "outputs": [],
   "source": [
    "# Declaring a five-dimensional vector in python using numpy\n",
    "\n",
    "v = np.array([6, 1, 5, 8, 3])\n",
    "print(v)"
   ]
  },
  {
   "cell_type": "code",
   "execution_count": 72,
   "metadata": {},
   "outputs": [
    {
     "name": "stdout",
     "output_type": "stream",
     "text": [
      "[5 1]\n"
     ]
    }
   ],
   "source": [
    "# Adding two vectors using numpy\n",
    "\n",
    "v = np.array([3, 2])\n",
    "w = np.array([2, -1])\n",
    "\n",
    "vector_sum = v + w\n",
    "print(vector_sum)"
   ]
  },
  {
   "cell_type": "code",
   "execution_count": 74,
   "metadata": {},
   "outputs": [
    {
     "name": "stdout",
     "output_type": "stream",
     "text": [
      "[6 2]\n"
     ]
    }
   ],
   "source": [
    "# Scalar vector multiplication using numpy\n",
    "\n",
    "v = np.array([3, 1])\n",
    "s = 2\n",
    "\n",
    "scalar_vector_product = v * s\n",
    "print(scalar_vector_product)"
   ]
  },
  {
   "cell_type": "markdown",
   "metadata": {},
   "source": [
    "### Matrices"
   ]
  },
  {
   "cell_type": "code",
   "execution_count": 75,
   "metadata": {},
   "outputs": [
    {
     "name": "stdout",
     "output_type": "stream",
     "text": [
      "[3 2]\n"
     ]
    }
   ],
   "source": [
    "# Maxtrix vector multiplication in numpy\n",
    "\n",
    "matrix_a = np.array([\n",
    "    [3, 0],\n",
    "    [0, 2]\n",
    "])\n",
    "\n",
    "v = np.array([1, 1])\n",
    "\n",
    "matrix_vector_sum = np.dot(matrix_a, v)\n",
    "print(matrix_vector_sum)"
   ]
  },
  {
   "cell_type": "code",
   "execution_count": 76,
   "metadata": {},
   "outputs": [
    {
     "name": "stdout",
     "output_type": "stream",
     "text": [
      "[2 3]\n"
     ]
    }
   ],
   "source": [
    "# Separating the matrix into basis vectors and applying the transformation\n",
    "\n",
    "i_hat = np.array([2, 0])\n",
    "j_hat = np.array([0, 3])\n",
    "\n",
    "matrix_a = np.array([\n",
    "    i_hat,\n",
    "    j_hat\n",
    "]).transpose()\n",
    "\n",
    "v = np.array([1, 1])\n",
    "\n",
    "matrix_vector_sum = np.dot(matrix_a, v)\n",
    "print(matrix_vector_sum)"
   ]
  },
  {
   "cell_type": "code",
   "execution_count": 79,
   "metadata": {},
   "outputs": [
    {
     "name": "stdout",
     "output_type": "stream",
     "text": [
      "[-1  1]\n"
     ]
    }
   ],
   "source": [
    "# Matrix Multiplication (combining a rotation and sheer, then applying it to a vector)\n",
    "\n",
    "i_hat_1 = np.array([0, 1])\n",
    "j_hat_1 = np.array([-1, 0])\n",
    "\n",
    "rotation_transformation_matrix = np.array([\n",
    "    i_hat_1,\n",
    "    j_hat_1\n",
    "]).transpose()\n",
    "\n",
    "i_hat_2 = np.array([1, 0])\n",
    "j_hat_2 = np.array([1, 1])\n",
    "\n",
    "shear_transformation_matrix = np.array([\n",
    "    i_hat_2,\n",
    "    j_hat_2\n",
    "]).transpose()\n",
    "\n",
    "combined_transformation_matrix = shear_transformation_matrix @ rotation_transformation_matrix\n",
    "\n",
    "v = np.array([1, 2])\n",
    "\n",
    "matrix_vector_sum = np.dot(combined_transformation_matrix, v)\n",
    "print(matrix_vector_sum)"
   ]
  },
  {
   "cell_type": "code",
   "execution_count": 81,
   "metadata": {},
   "outputs": [
    {
     "name": "stdout",
     "output_type": "stream",
     "text": [
      "[-1  1]\n"
     ]
    }
   ],
   "source": [
    "# Applying transformations to a vector in sequence\n",
    "\n",
    "i_hat_1 = np.array([0, 1])\n",
    "j_hat_1 = np.array([-1, 0])\n",
    "\n",
    "rotation_transformation_matrix = np.array([\n",
    "    i_hat_1,\n",
    "    j_hat_1\n",
    "]).transpose()\n",
    "\n",
    "i_hat_2 = np.array([1, 0])\n",
    "j_hat_2 = np.array([1, 1])\n",
    "\n",
    "shear_transformation_matrix = np.array([\n",
    "    i_hat_2,\n",
    "    j_hat_2\n",
    "]).transpose()\n",
    "\n",
    "v = np.array([1, 2])\n",
    "rotated_v = rotation_transformation_matrix.dot(v)\n",
    "sheered_v = shear_transformation_matrix.dot(rotated_v)\n",
    "print(sheered_v)"
   ]
  },
  {
   "cell_type": "code",
   "execution_count": 83,
   "metadata": {},
   "outputs": [
    {
     "name": "stdout",
     "output_type": "stream",
     "text": [
      "[-2  3]\n"
     ]
    }
   ],
   "source": [
    "# Applying the above transformations in reverse\n",
    "\n",
    "i_hat_1 = np.array([0, 1])\n",
    "j_hat_1 = np.array([-1, 0])\n",
    "\n",
    "rotation_transformation_matrix = np.array([\n",
    "    i_hat_1,\n",
    "    j_hat_1\n",
    "]).transpose()\n",
    "\n",
    "i_hat_2 = np.array([1, 0])\n",
    "j_hat_2 = np.array([1, 1])\n",
    "\n",
    "shear_transformation_matrix = np.array([\n",
    "    i_hat_2,\n",
    "    j_hat_2\n",
    "]).transpose()\n",
    "\n",
    "combined_transformation_matrix = rotation_transformation_matrix @ shear_transformation_matrix\n",
    "\n",
    "v = np.array([1, 2])\n",
    "\n",
    "matrix_vector_sum = np.dot(combined_transformation_matrix, v)\n",
    "print(matrix_vector_sum)"
   ]
  },
  {
   "cell_type": "markdown",
   "metadata": {},
   "source": [
    "### Determinants"
   ]
  },
  {
   "cell_type": "code",
   "execution_count": 85,
   "metadata": {},
   "outputs": [
    {
     "name": "stdout",
     "output_type": "stream",
     "text": [
      "6.0\n"
     ]
    }
   ],
   "source": [
    "# Calculating a determinant\n",
    "\n",
    "i_hat = np.array([3, 0])\n",
    "j_hat = np.array([0, 2])\n",
    "\n",
    "transformation_matrix = np.array([\n",
    "    i_hat,\n",
    "    j_hat\n",
    "]).transpose()\n",
    "\n",
    "determinant = np.linalg.det(transformation_matrix)\n",
    "print(determinant)"
   ]
  },
  {
   "cell_type": "code",
   "execution_count": 86,
   "metadata": {},
   "outputs": [
    {
     "name": "stdout",
     "output_type": "stream",
     "text": [
      "1.0\n"
     ]
    }
   ],
   "source": [
    "# Calculating the determinant for a shear\n",
    "\n",
    "i_hat = np.array([1, 0])\n",
    "j_hat = np.array([1, 1])\n",
    "\n",
    "transformation_matrix = np.array([\n",
    "    i_hat,\n",
    "    j_hat\n",
    "]).transpose()\n",
    "\n",
    "determinant = np.linalg.det(transformation_matrix)\n",
    "print(determinant)"
   ]
  },
  {
   "cell_type": "code",
   "execution_count": 93,
   "metadata": {},
   "outputs": [
    {
     "name": "stdout",
     "output_type": "stream",
     "text": [
      "-1.0\n"
     ]
    }
   ],
   "source": [
    "# Calculating the determinant of an inversion\n",
    "\n",
    "i_hat = np.array([-1, 0])\n",
    "j_hat = np.array([0, 1])\n",
    "\n",
    "transformation_matrix = np.array([\n",
    "    i_hat,\n",
    "    j_hat\n",
    "]).transpose()\n",
    "\n",
    "determinant = np.linalg.det(transformation_matrix)\n",
    "print(determinant)"
   ]
  },
  {
   "cell_type": "code",
   "execution_count": 94,
   "metadata": {},
   "outputs": [
    {
     "name": "stdout",
     "output_type": "stream",
     "text": [
      "0.0\n"
     ]
    }
   ],
   "source": [
    "# Calculating the determinant of a linearly depedent matrix\n",
    "\n",
    "i_hat = np.array([1, 2])\n",
    "j_hat = np.array([2, 4])\n",
    "\n",
    "transformation_matrix = np.array([\n",
    "    i_hat,\n",
    "    j_hat\n",
    "]).transpose()\n",
    "\n",
    "determinant = np.linalg.det(transformation_matrix)\n",
    "print(determinant)"
   ]
  },
  {
   "cell_type": "markdown",
   "metadata": {},
   "source": [
    "### Special Types of Matrices"
   ]
  },
  {
   "cell_type": "code",
   "execution_count": 105,
   "metadata": {},
   "outputs": [
    {
     "name": "stdout",
     "output_type": "stream",
     "text": [
      "[[ 1  2  3]\n",
      " [ 4  5  6]\n",
      " [ 7  8 10]]\n"
     ]
    }
   ],
   "source": [
    "# Square Matrix\n",
    "\n",
    "square_matrix = np.array([[1, 2, 3],\n",
    "                          [4, 5, 6],\n",
    "                          [7, 8, 10]])\n",
    "\n",
    "print(square_matrix)"
   ]
  },
  {
   "cell_type": "code",
   "execution_count": 106,
   "metadata": {},
   "outputs": [
    {
     "name": "stdout",
     "output_type": "stream",
     "text": [
      "[[1. 0. 0.]\n",
      " [0. 1. 0.]\n",
      " [0. 0. 1.]]\n"
     ]
    }
   ],
   "source": [
    "# Identity Matrix\n",
    "\n",
    "identity_matrix = np.identity(3)\n",
    "print(identity_matrix)"
   ]
  },
  {
   "cell_type": "code",
   "execution_count": 107,
   "metadata": {},
   "outputs": [
    {
     "name": "stdout",
     "output_type": "stream",
     "text": [
      "[[-0.66666667 -1.33333333  1.        ]\n",
      " [-0.66666667  3.66666667 -2.        ]\n",
      " [ 1.         -2.          1.        ]]\n"
     ]
    }
   ],
   "source": [
    "# Inverse Matrix\n",
    "\n",
    "inverse_matrix = np.linalg.inv(square_matrix)\n",
    "print(inverse_matrix)"
   ]
  },
  {
   "cell_type": "code",
   "execution_count": 108,
   "metadata": {},
   "outputs": [
    {
     "name": "stdout",
     "output_type": "stream",
     "text": [
      "[[1 0 0]\n",
      " [0 2 0]\n",
      " [0 0 3]]\n"
     ]
    }
   ],
   "source": [
    "# Diagonal Matrix\n",
    "\n",
    "diagonal_matrix = np.diag([1, 2, 3])\n",
    "print(diagonal_matrix)"
   ]
  },
  {
   "cell_type": "code",
   "execution_count": 109,
   "metadata": {},
   "outputs": [
    {
     "name": "stdout",
     "output_type": "stream",
     "text": [
      "[[ 1  2  3]\n",
      " [ 0  5  6]\n",
      " [ 0  0 10]]\n"
     ]
    }
   ],
   "source": [
    "# Upper-Triagular Matrix\n",
    "\n",
    "upper_triangular_matrix = np.triu(square_matrix)\n",
    "print(upper_triangular_matrix)"
   ]
  },
  {
   "cell_type": "code",
   "execution_count": 110,
   "metadata": {},
   "outputs": [
    {
     "name": "stdout",
     "output_type": "stream",
     "text": [
      "[[ 1  0  0]\n",
      " [ 4  5  0]\n",
      " [ 7  8 10]]\n"
     ]
    }
   ],
   "source": [
    "# Lower-Triangular Matrix\n",
    "\n",
    "lower_triangular_matrix = np.tril(square_matrix)\n",
    "print(lower_triangular_matrix)"
   ]
  },
  {
   "cell_type": "code",
   "execution_count": 113,
   "metadata": {},
   "outputs": [
    {
     "name": "stdout",
     "output_type": "stream",
     "text": [
      "[[0 0 0]\n",
      " [0 0 0]\n",
      " [0 0 3]\n",
      " [0 0 0]]\n"
     ]
    }
   ],
   "source": [
    "# Sparse Matrix\n",
    "\n",
    "sparse_matrix = np.array([[0, 0, 0],\n",
    "                          [0, 0, 0],\n",
    "                          [0, 0, 3],\n",
    "                          [0, 0, 0]])\n",
    "print(sparse_matrix)"
   ]
  },
  {
   "cell_type": "markdown",
   "metadata": {},
   "source": [
    "### Systems of Equations & Inverse Matrices"
   ]
  },
  {
   "cell_type": "code",
   "execution_count": 119,
   "metadata": {},
   "outputs": [
    {
     "name": "stdout",
     "output_type": "stream",
     "text": [
      "Inverse: Matrix([[-1/2, 0, 1/3], [11/2, -2, -4/3], [-2, 1, 1/3]])\n",
      "Identity: Matrix([[1, 0, 0], [0, 1, 0], [0, 0, 1]])\n"
     ]
    }
   ],
   "source": [
    "# Using sympy to study the matrix inverse and identity matrix\n",
    "\n",
    "# 4x + 2y + 4z = 44\n",
    "# 5x + 3y + 7z = 56\n",
    "# 9x + 3y + 6z = 72\n",
    "\n",
    "matrix_a = sympy.Matrix([\n",
    "    [4, 2, 4],\n",
    "    [5, 3, 7],\n",
    "    [9, 3, 6]\n",
    "])\n",
    "\n",
    "inverse = matrix_a.inv()\n",
    "identity = inverse * matrix_a\n",
    "\n",
    "print(\"Inverse:\", inverse)\n",
    "print(\"Identity:\", identity)"
   ]
  },
  {
   "cell_type": "code",
   "execution_count": 121,
   "metadata": {},
   "outputs": [
    {
     "name": "stdout",
     "output_type": "stream",
     "text": [
      "[ 2. 34. -8.]\n"
     ]
    }
   ],
   "source": [
    "# Using numpy to solve a system of equations\n",
    "\n",
    "# 4x + 2y + 4z = 44\n",
    "# 5x + 3y + 7z = 56\n",
    "# 9x + 3y + 6z = 72\n",
    "\n",
    "coefficients_matrix = np.array([\n",
    "    [4, 2, 4],\n",
    "    [5, 3, 7],\n",
    "    [9, 3, 6]\n",
    "])\n",
    "\n",
    "constants_vector = np.array([\n",
    "    44,\n",
    "    56,\n",
    "    72\n",
    "])\n",
    "\n",
    "solution = np.linalg.inv(coefficients_matrix) @ constants_vector\n",
    "print(solution)"
   ]
  },
  {
   "cell_type": "code",
   "execution_count": 123,
   "metadata": {},
   "outputs": [
    {
     "name": "stdout",
     "output_type": "stream",
     "text": [
      "Matrix([[2], [34], [-8]])\n"
     ]
    }
   ],
   "source": [
    "# Using sympy to solve a system of equations\n",
    "\n",
    "# 4x + 2y + 4z = 44\n",
    "# 5x + 3y + 7z = 56\n",
    "# 9x + 3y + 6z = 72\n",
    "\n",
    "coefficients_matrix = sympy.Matrix([\n",
    "    [4, 2, 4],\n",
    "    [5, 3, 7],\n",
    "    [9, 3, 6]\n",
    "])\n",
    "\n",
    "constants_vector = sympy.Matrix([\n",
    "    44,\n",
    "    56,\n",
    "    72\n",
    "])\n",
    "\n",
    "solution = coefficients_matrix.inv() * constants_vector\n",
    "print(solution)"
   ]
  },
  {
   "cell_type": "markdown",
   "metadata": {},
   "source": [
    "### Eigenvectors & Eigenvalues"
   ]
  },
  {
   "cell_type": "code",
   "execution_count": 131,
   "metadata": {},
   "outputs": [
    {
     "name": "stdout",
     "output_type": "stream",
     "text": [
      "Eigenvalues: \n",
      " [-0.46410162  6.46410162] \n",
      "\n",
      "Eigenvectors: \n",
      " [[-0.80689822 -0.34372377]\n",
      " [ 0.59069049 -0.9390708 ]] \n",
      "\n"
     ]
    }
   ],
   "source": [
    "# Performing eigendecomposition in numpy\n",
    "\n",
    "matrix_a = np.array([\n",
    "    [1, 2],\n",
    "    [4, 5]\n",
    "])\n",
    "\n",
    "evals, evecs = np.linalg.eig(matrix_a)\n",
    "\n",
    "print(\"Eigenvalues:\", \"\\n\", evals, \"\\n\")\n",
    "print(\"Eigenvectors:\", \"\\n\",  evecs, \"\\n\")"
   ]
  },
  {
   "cell_type": "code",
   "execution_count": 133,
   "metadata": {},
   "outputs": [
    {
     "name": "stdout",
     "output_type": "stream",
     "text": [
      "Original Matrix: \n",
      " [[1 2]\n",
      " [4 5]] \n",
      "\n",
      "Eigenvalues: \n",
      " [-0.46410162  6.46410162] \n",
      "\n",
      "Eigenvectors: \n",
      " [[-0.80689822 -0.34372377]\n",
      " [ 0.59069049 -0.9390708 ]] \n",
      "\n",
      "Rebuilt Matrix: \n",
      " [[1. 2.]\n",
      " [4. 5.]]\n"
     ]
    }
   ],
   "source": [
    "# Decomposing and recomposing a matrix in numpy\n",
    "\n",
    "matrix_a = np.array([\n",
    "    [1, 2],\n",
    "    [4, 5]\n",
    "])\n",
    "print(\"Original Matrix:\", \"\\n\",  matrix_a, \"\\n\")\n",
    "\n",
    "evals, evecs = np.linalg.eig(matrix_a)\n",
    "\n",
    "print(\"Eigenvalues:\", \"\\n\",  evals, \"\\n\")\n",
    "print(\"Eigenvectors:\", \"\\n\",  evecs, \"\\n\")\n",
    "\n",
    "q = evecs\n",
    "r = np.linalg.inv(q)\n",
    "\n",
    "l = np.diag(evals)\n",
    "b = q @ l @ r\n",
    "print(\"Rebuilt Matrix:\", \"\\n\",  b)"
   ]
  },
  {
   "cell_type": "markdown",
   "metadata": {},
   "source": [
    "## Code Exercises"
   ]
  },
  {
   "cell_type": "code",
   "execution_count": 136,
   "metadata": {},
   "outputs": [
    {
     "name": "stdout",
     "output_type": "stream",
     "text": [
      "[2. 3.]\n"
     ]
    }
   ],
   "source": [
    "# Exercise 4-1 (Linear transformation)\n",
    "\n",
    "i_hat = np.array([2, 0])\n",
    "j_hat = np.array([0, 1.5])\n",
    "\n",
    "transformation_matrix = np.array([\n",
    "    i_hat,\n",
    "    j_hat\n",
    "]).transpose()\n",
    "\n",
    "v = np.array([1, 2])\n",
    "transformed_v = transformation_matrix @ v\n",
    "print(transformed_v)"
   ]
  },
  {
   "cell_type": "code",
   "execution_count": 137,
   "metadata": {},
   "outputs": [
    {
     "name": "stdout",
     "output_type": "stream",
     "text": [
      "[ 0 -3]\n"
     ]
    }
   ],
   "source": [
    "# Exercise 4-2 (Linear transformation)\n",
    "\n",
    "i_hat = np.array([-2, 1])\n",
    "j_hat = np.array([1, -2])\n",
    "\n",
    "transformation_matrix = np.array([\n",
    "    i_hat,\n",
    "    j_hat\n",
    "]).transpose()\n",
    "\n",
    "v = np.array([1, 2])\n",
    "transformed_v = transformation_matrix @ v\n",
    "print(transformed_v)"
   ]
  },
  {
   "cell_type": "code",
   "execution_count": 138,
   "metadata": {},
   "outputs": [
    {
     "name": "stdout",
     "output_type": "stream",
     "text": [
      "2.0\n"
     ]
    }
   ],
   "source": [
    "# Exercise 4-3 (Calculating determinant)\n",
    "\n",
    "i_hat = np.array([1, 0])\n",
    "j_hat = np.array([2, 2])\n",
    "\n",
    "transformation_matrix = np.array([\n",
    "    i_hat,\n",
    "    j_hat\n",
    "]).transpose()\n",
    "\n",
    "determinant = np.linalg.det(transformation_matrix)\n",
    "print(determinant)"
   ]
  },
  {
   "cell_type": "code",
   "execution_count": 135,
   "metadata": {},
   "outputs": [
    {
     "name": "stdout",
     "output_type": "stream",
     "text": [
      "Transformation matrix 1:\n",
      " [[2 0]\n",
      " [0 2]]\n",
      "\n",
      "Transformation matrix 2:\n",
      " [[ 0 -1]\n",
      " [ 1  0]]\n",
      "\n",
      "Combined transformation matrix:\n",
      " [[ 0 -2]\n",
      " [ 2  0]]\n",
      "\n",
      "Original vector v:\n",
      " [1 1]\n",
      "\n",
      "Transformed vector v_transformed:\n",
      " [-2  2]\n"
     ]
    }
   ],
   "source": [
    "# Exercise 4-4 (Can two or more linear transformations be done in a single linear transformation?)\n",
    "\n",
    "# Yes! This can be achieved through composition of linear transformations\n",
    "transformation_1 = np.array([[2, 0],\n",
    "              [0, 2]])\n",
    "\n",
    "transformation_2 = np.array([[0, -1],\n",
    "              [1,  0]])\n",
    "\n",
    "combined_transformation = np.dot(transformation_2, transformation_1)\n",
    "\n",
    "v = np.array([1, 1])\n",
    "\n",
    "v_transformed = np.dot(combined_transformation, v)\n",
    "\n",
    "print(\"Transformation matrix 1:\\n\", transformation_1)\n",
    "print(\"\\nTransformation matrix 2:\\n\", transformation_2)\n",
    "print(\"\\nCombined transformation matrix:\\n\", combined_transformation)\n",
    "print(\"\\nOriginal vector v:\\n\", v)\n",
    "print(\"\\nTransformed vector v_transformed:\\n\", v_transformed)\n"
   ]
  },
  {
   "cell_type": "code",
   "execution_count": 139,
   "metadata": {},
   "outputs": [
    {
     "name": "stdout",
     "output_type": "stream",
     "text": [
      "[19.8 -5.4 -6. ]\n"
     ]
    }
   ],
   "source": [
    "# Exercise 4-5 (Solve system of equations)\n",
    "\n",
    "# 3x + 1y + 0z = 54\n",
    "# 2x + 4y + 1z = 12\n",
    "# 3x + 1y + 8z = 6\n",
    "\n",
    "coefficients_matrix = np.array([\n",
    "    [3, 1, 0],\n",
    "    [2, 4, 1],\n",
    "    [3, 1, 8]\n",
    "])\n",
    "\n",
    "constants_vector = np.array([\n",
    "    54,\n",
    "    12,\n",
    "    6\n",
    "])\n",
    "\n",
    "solution = np.linalg.inv(coefficients_matrix) @ constants_vector\n",
    "print(solution)"
   ]
  },
  {
   "cell_type": "code",
   "execution_count": 146,
   "metadata": {},
   "outputs": [
    {
     "name": "stdout",
     "output_type": "stream",
     "text": [
      "Matrix is linearly dependent; determinant is equal to zero.\n"
     ]
    }
   ],
   "source": [
    "# Exercise 4-6 (Determining linear dependence)\n",
    "\n",
    "i_hat = np.array([2, 6])\n",
    "j_hat = np.array([1, 3])\n",
    "\n",
    "transformation_matrix = np.array([\n",
    "    i_hat,\n",
    "    j_hat\n",
    "]).transpose()\n",
    "\n",
    "determinant = np.linalg.det(transformation_matrix)\n",
    "\n",
    "if np.isclose(determinant, 0, atol=1e-9):\n",
    "    print(\"Matrix is linearly dependent; determinant is equal to zero.\")\n",
    "else:\n",
    "    print(\"Matrix is not linearly depedendent; determinant is not equal to zero\")"
   ]
  }
 ],
 "metadata": {
  "kernelspec": {
   "display_name": "Python 3 (ipykernel)",
   "language": "python",
   "name": "python3"
  },
  "language_info": {
   "codemirror_mode": {
    "name": "ipython",
    "version": 3
   },
   "file_extension": ".py",
   "mimetype": "text/x-python",
   "name": "python",
   "nbconvert_exporter": "python",
   "pygments_lexer": "ipython3",
   "version": "3.8.6"
  }
 },
 "nbformat": 4,
 "nbformat_minor": 2
}
