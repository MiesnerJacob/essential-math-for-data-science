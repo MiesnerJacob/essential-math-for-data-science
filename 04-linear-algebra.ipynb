{
 "cells": [
  {
   "cell_type": "markdown",
   "metadata": {},
   "source": [
    "# Chapter 04: Linear Algebra"
   ]
  },
  {
   "cell_type": "markdown",
   "metadata": {},
   "source": [
    "## Concepts"
   ]
  },
  {
   "cell_type": "code",
   "execution_count": 111,
   "metadata": {},
   "outputs": [],
   "source": [
    "import numpy as np\n",
    "import scipy as sp"
   ]
  },
  {
   "cell_type": "markdown",
   "metadata": {},
   "source": [
    "### Vectors"
   ]
  },
  {
   "cell_type": "code",
   "execution_count": 68,
   "metadata": {},
   "outputs": [
    {
     "name": "stdout",
     "output_type": "stream",
     "text": [
      "[3, 2]\n"
     ]
    }
   ],
   "source": [
    "# Delcaring a vector using a python list\n",
    "\n",
    "v = [3, 2]\n",
    "print(v)"
   ]
  },
  {
   "cell_type": "code",
   "execution_count": 70,
   "metadata": {},
   "outputs": [
    {
     "name": "stdout",
     "output_type": "stream",
     "text": [
      "[3 2]\n"
     ]
    }
   ],
   "source": [
    "# Delcaring a vector in using numpy\n",
    "\n",
    "v = np.array([3, 2])\n",
    "print(v)"
   ]
  },
  {
   "cell_type": "code",
   "execution_count": 71,
   "metadata": {},
   "outputs": [
    {
     "name": "stdout",
     "output_type": "stream",
     "text": [
      "[4 1 2]\n"
     ]
    }
   ],
   "source": [
    "# Declaring a three-dimensional vector in python using numpy\n",
    "\n",
    "v = np.array([4, 1, 2])\n",
    "print(v)"
   ]
  },
  {
   "cell_type": "code",
   "execution_count": null,
   "metadata": {},
   "outputs": [],
   "source": [
    "# Declaring a five-dimensional vector in python using numpy\n",
    "\n",
    "v = np.array([6, 1, 5, 8, 3])\n",
    "print(v)"
   ]
  },
  {
   "cell_type": "code",
   "execution_count": 72,
   "metadata": {},
   "outputs": [
    {
     "name": "stdout",
     "output_type": "stream",
     "text": [
      "[5 1]\n"
     ]
    }
   ],
   "source": [
    "# Adding two vectors using numpy\n",
    "\n",
    "v = np.array([3, 2])\n",
    "w = np.array([2, -1])\n",
    "\n",
    "vector_sum = v + w\n",
    "print(vector_sum)"
   ]
  },
  {
   "cell_type": "code",
   "execution_count": 74,
   "metadata": {},
   "outputs": [
    {
     "name": "stdout",
     "output_type": "stream",
     "text": [
      "[6 2]\n"
     ]
    }
   ],
   "source": [
    "# Scalar vector multiplication using numpy\n",
    "\n",
    "v = np.array([3, 1])\n",
    "s = 2\n",
    "\n",
    "scalar_vector_product = v * s\n",
    "print(scalar_vector_product)"
   ]
  },
  {
   "cell_type": "markdown",
   "metadata": {},
   "source": [
    "### Matrices"
   ]
  },
  {
   "cell_type": "code",
   "execution_count": 75,
   "metadata": {},
   "outputs": [
    {
     "name": "stdout",
     "output_type": "stream",
     "text": [
      "[3 2]\n"
     ]
    }
   ],
   "source": [
    "# Maxtrix vector multiplication in numpy\n",
    "\n",
    "matrix_a = np.array([\n",
    "    [3, 0],\n",
    "    [0, 2]\n",
    "])\n",
    "\n",
    "v = np.array([1, 1])\n",
    "\n",
    "matrix_vector_sum = np.dot(matrix_a, v)\n",
    "print(matrix_vector_sum)"
   ]
  },
  {
   "cell_type": "code",
   "execution_count": 76,
   "metadata": {},
   "outputs": [
    {
     "name": "stdout",
     "output_type": "stream",
     "text": [
      "[2 3]\n"
     ]
    }
   ],
   "source": [
    "# Separating the matrix into basis vectors and applying the transformation\n",
    "\n",
    "i_hat = np.array([2, 0])\n",
    "j_hat = np.array([0, 3])\n",
    "\n",
    "matrix_a = np.array([\n",
    "    i_hat,\n",
    "    j_hat\n",
    "]).transpose()\n",
    "\n",
    "v = np.array([1, 1])\n",
    "\n",
    "matrix_vector_sum = np.dot(matrix_a, v)\n",
    "print(matrix_vector_sum)"
   ]
  },
  {
   "cell_type": "code",
   "execution_count": 79,
   "metadata": {},
   "outputs": [
    {
     "name": "stdout",
     "output_type": "stream",
     "text": [
      "[-1  1]\n"
     ]
    }
   ],
   "source": [
    "# Matrix Multiplication (combining a rotation and sheer, then applying it to a vector)\n",
    "\n",
    "i_hat_1 = np.array([0, 1])\n",
    "j_hat_1 = np.array([-1, 0])\n",
    "\n",
    "rotation_transformation_matrix = np.array([\n",
    "    i_hat_1,\n",
    "    j_hat_1\n",
    "]).transpose()\n",
    "\n",
    "i_hat_2 = np.array([1, 0])\n",
    "j_hat_2 = np.array([1, 1])\n",
    "\n",
    "shear_transformation_matrix = np.array([\n",
    "    i_hat_2,\n",
    "    j_hat_2\n",
    "]).transpose()\n",
    "\n",
    "combined_transformation_matrix = shear_transformation_matrix @ rotation_transformation_matrix\n",
    "\n",
    "v = np.array([1, 2])\n",
    "\n",
    "matrix_vector_sum = np.dot(combined_transformation_matrix, v)\n",
    "print(matrix_vector_sum)"
   ]
  },
  {
   "cell_type": "code",
   "execution_count": 81,
   "metadata": {},
   "outputs": [
    {
     "name": "stdout",
     "output_type": "stream",
     "text": [
      "[-1  1]\n"
     ]
    }
   ],
   "source": [
    "# Applying transformations to a vector in sequence\n",
    "\n",
    "i_hat_1 = np.array([0, 1])\n",
    "j_hat_1 = np.array([-1, 0])\n",
    "\n",
    "rotation_transformation_matrix = np.array([\n",
    "    i_hat_1,\n",
    "    j_hat_1\n",
    "]).transpose()\n",
    "\n",
    "i_hat_2 = np.array([1, 0])\n",
    "j_hat_2 = np.array([1, 1])\n",
    "\n",
    "shear_transformation_matrix = np.array([\n",
    "    i_hat_2,\n",
    "    j_hat_2\n",
    "]).transpose()\n",
    "\n",
    "v = np.array([1, 2])\n",
    "rotated_v = rotation_transformation_matrix.dot(v)\n",
    "sheered_v = shear_transformation_matrix.dot(rotated_v)\n",
    "print(sheered_v)"
   ]
  },
  {
   "cell_type": "code",
   "execution_count": 83,
   "metadata": {},
   "outputs": [
    {
     "name": "stdout",
     "output_type": "stream",
     "text": [
      "[-2  3]\n"
     ]
    }
   ],
   "source": [
    "# Applying the above transformations in reverse\n",
    "\n",
    "i_hat_1 = np.array([0, 1])\n",
    "j_hat_1 = np.array([-1, 0])\n",
    "\n",
    "rotation_transformation_matrix = np.array([\n",
    "    i_hat_1,\n",
    "    j_hat_1\n",
    "]).transpose()\n",
    "\n",
    "i_hat_2 = np.array([1, 0])\n",
    "j_hat_2 = np.array([1, 1])\n",
    "\n",
    "shear_transformation_matrix = np.array([\n",
    "    i_hat_2,\n",
    "    j_hat_2\n",
    "]).transpose()\n",
    "\n",
    "combined_transformation_matrix = rotation_transformation_matrix @ shear_transformation_matrix\n",
    "\n",
    "v = np.array([1, 2])\n",
    "\n",
    "matrix_vector_sum = np.dot(combined_transformation_matrix, v)\n",
    "print(matrix_vector_sum)"
   ]
  },
  {
   "cell_type": "markdown",
   "metadata": {},
   "source": [
    "### Determinants"
   ]
  },
  {
   "cell_type": "code",
   "execution_count": 85,
   "metadata": {},
   "outputs": [
    {
     "name": "stdout",
     "output_type": "stream",
     "text": [
      "6.0\n"
     ]
    }
   ],
   "source": [
    "# Calculating a determinant\n",
    "\n",
    "i_hat = np.array([3, 0])\n",
    "j_hat = np.array([0, 2])\n",
    "\n",
    "transformation_matrix = np.array([\n",
    "    i_hat,\n",
    "    j_hat\n",
    "]).transpose()\n",
    "\n",
    "determinant = np.linalg.det(transformation_matrix)\n",
    "print(determinant)"
   ]
  },
  {
   "cell_type": "code",
   "execution_count": 86,
   "metadata": {},
   "outputs": [
    {
     "name": "stdout",
     "output_type": "stream",
     "text": [
      "1.0\n"
     ]
    }
   ],
   "source": [
    "# Calculating the determinant for a shear\n",
    "\n",
    "i_hat = np.array([1, 0])\n",
    "j_hat = np.array([1, 1])\n",
    "\n",
    "transformation_matrix = np.array([\n",
    "    i_hat,\n",
    "    j_hat\n",
    "]).transpose()\n",
    "\n",
    "determinant = np.linalg.det(transformation_matrix)\n",
    "print(determinant)"
   ]
  },
  {
   "cell_type": "code",
   "execution_count": 93,
   "metadata": {},
   "outputs": [
    {
     "name": "stdout",
     "output_type": "stream",
     "text": [
      "-1.0\n"
     ]
    }
   ],
   "source": [
    "# Calculating the determinant of an inversion\n",
    "\n",
    "i_hat = np.array([-1, 0])\n",
    "j_hat = np.array([0, 1])\n",
    "\n",
    "transformation_matrix = np.array([\n",
    "    i_hat,\n",
    "    j_hat\n",
    "]).transpose()\n",
    "\n",
    "determinant = np.linalg.det(transformation_matrix)\n",
    "print(determinant)"
   ]
  },
  {
   "cell_type": "code",
   "execution_count": 94,
   "metadata": {},
   "outputs": [
    {
     "name": "stdout",
     "output_type": "stream",
     "text": [
      "0.0\n"
     ]
    }
   ],
   "source": [
    "# Calculating the determinant of a linearly depedent matrix\n",
    "\n",
    "i_hat = np.array([1, 2])\n",
    "j_hat = np.array([2, 4])\n",
    "\n",
    "transformation_matrix = np.array([\n",
    "    i_hat,\n",
    "    j_hat\n",
    "]).transpose()\n",
    "\n",
    "determinant = np.linalg.det(transformation_matrix)\n",
    "print(determinant)"
   ]
  },
  {
   "cell_type": "markdown",
   "metadata": {},
   "source": [
    "### Special Types of Matrices"
   ]
  },
  {
   "cell_type": "code",
   "execution_count": 105,
   "metadata": {},
   "outputs": [
    {
     "name": "stdout",
     "output_type": "stream",
     "text": [
      "[[ 1  2  3]\n",
      " [ 4  5  6]\n",
      " [ 7  8 10]]\n"
     ]
    }
   ],
   "source": [
    "# Square Matrix\n",
    "\n",
    "square_matrix = np.array([[1, 2, 3],\n",
    "                          [4, 5, 6],\n",
    "                          [7, 8, 10]])\n",
    "\n",
    "print(square_matrix)"
   ]
  },
  {
   "cell_type": "code",
   "execution_count": 106,
   "metadata": {},
   "outputs": [
    {
     "name": "stdout",
     "output_type": "stream",
     "text": [
      "[[1. 0. 0.]\n",
      " [0. 1. 0.]\n",
      " [0. 0. 1.]]\n"
     ]
    }
   ],
   "source": [
    "# Identity Matrix\n",
    "\n",
    "identity_matrix = np.identity(3)\n",
    "print(identity_matrix)"
   ]
  },
  {
   "cell_type": "code",
   "execution_count": 107,
   "metadata": {},
   "outputs": [
    {
     "name": "stdout",
     "output_type": "stream",
     "text": [
      "[[-0.66666667 -1.33333333  1.        ]\n",
      " [-0.66666667  3.66666667 -2.        ]\n",
      " [ 1.         -2.          1.        ]]\n"
     ]
    }
   ],
   "source": [
    "# Inverse Matrix\n",
    "\n",
    "inverse_matrix = np.linalg.inv(square_matrix)\n",
    "print(inverse_matrix)"
   ]
  },
  {
   "cell_type": "code",
   "execution_count": 108,
   "metadata": {},
   "outputs": [
    {
     "name": "stdout",
     "output_type": "stream",
     "text": [
      "[[1 0 0]\n",
      " [0 2 0]\n",
      " [0 0 3]]\n"
     ]
    }
   ],
   "source": [
    "# Diagonal Matrix\n",
    "\n",
    "diagonal_matrix = np.diag([1, 2, 3])\n",
    "print(diagonal_matrix)"
   ]
  },
  {
   "cell_type": "code",
   "execution_count": 109,
   "metadata": {},
   "outputs": [
    {
     "name": "stdout",
     "output_type": "stream",
     "text": [
      "[[ 1  2  3]\n",
      " [ 0  5  6]\n",
      " [ 0  0 10]]\n"
     ]
    }
   ],
   "source": [
    "# Upper-Triagular Matrix\n",
    "\n",
    "upper_triangular_matrix = np.triu(square_matrix)\n",
    "print(upper_triangular_matrix)"
   ]
  },
  {
   "cell_type": "code",
   "execution_count": 110,
   "metadata": {},
   "outputs": [
    {
     "name": "stdout",
     "output_type": "stream",
     "text": [
      "[[ 1  0  0]\n",
      " [ 4  5  0]\n",
      " [ 7  8 10]]\n"
     ]
    }
   ],
   "source": [
    "# Lower-Triangular Matrix\n",
    "\n",
    "lower_triangular_matrix = np.tril(square_matrix)\n",
    "print(lower_triangular_matrix)"
   ]
  },
  {
   "cell_type": "code",
   "execution_count": 113,
   "metadata": {},
   "outputs": [
    {
     "name": "stdout",
     "output_type": "stream",
     "text": [
      "[[0 0 0]\n",
      " [0 0 0]\n",
      " [0 0 3]\n",
      " [0 0 0]]\n"
     ]
    }
   ],
   "source": [
    "# Sparse Matrix\n",
    "\n",
    "sparse_matrix = np.array([[0, 0, 0],\n",
    "                          [0, 0, 0],\n",
    "                          [0, 0, 3],\n",
    "                          [0, 0, 0]])\n",
    "print(sparse_matrix)"
   ]
  },
  {
   "cell_type": "markdown",
   "metadata": {},
   "source": [
    "### Systems of Equations & Inverse Matrices"
   ]
  },
  {
   "cell_type": "code",
   "execution_count": null,
   "metadata": {},
   "outputs": [],
   "source": [
    "# Using sympy to study the matrix inverse and identity matrix\n",
    "\n",
    "# 4x + 2y + 4z = 44\n",
    "# 5x + 3y + 7z = 56\n",
    "# 4x + 2y + 4z = 72"
   ]
  },
  {
   "cell_type": "code",
   "execution_count": null,
   "metadata": {},
   "outputs": [],
   "source": [
    "# Using numpy to solve a system of equations"
   ]
  },
  {
   "cell_type": "code",
   "execution_count": null,
   "metadata": {},
   "outputs": [],
   "source": [
    "# Using sympy to solve a system of equations"
   ]
  },
  {
   "cell_type": "markdown",
   "metadata": {},
   "source": [
    "### Eigenvectors & Eigenvalues"
   ]
  },
  {
   "cell_type": "code",
   "execution_count": null,
   "metadata": {},
   "outputs": [],
   "source": [
    "# Performing eigendecomposition in numpy"
   ]
  },
  {
   "cell_type": "code",
   "execution_count": null,
   "metadata": {},
   "outputs": [],
   "source": [
    "# Decomposing and recomposing a matrix in numpy"
   ]
  },
  {
   "cell_type": "markdown",
   "metadata": {},
   "source": [
    "## Code Exercises"
   ]
  },
  {
   "cell_type": "code",
   "execution_count": null,
   "metadata": {},
   "outputs": [],
   "source": [
    "# Exercise 4-1"
   ]
  },
  {
   "cell_type": "code",
   "execution_count": null,
   "metadata": {},
   "outputs": [],
   "source": [
    "# Exercise 4-2"
   ]
  },
  {
   "cell_type": "code",
   "execution_count": null,
   "metadata": {},
   "outputs": [],
   "source": [
    "# Exercise 4-3"
   ]
  },
  {
   "cell_type": "code",
   "execution_count": null,
   "metadata": {},
   "outputs": [],
   "source": [
    "# Exercise 4-4"
   ]
  },
  {
   "cell_type": "code",
   "execution_count": null,
   "metadata": {},
   "outputs": [],
   "source": [
    "# Exercise 4-5"
   ]
  },
  {
   "cell_type": "code",
   "execution_count": null,
   "metadata": {},
   "outputs": [],
   "source": [
    "# Exercise 4-6"
   ]
  }
 ],
 "metadata": {
  "kernelspec": {
   "display_name": "Python 3 (ipykernel)",
   "language": "python",
   "name": "python3"
  },
  "language_info": {
   "codemirror_mode": {
    "name": "ipython",
    "version": 3
   },
   "file_extension": ".py",
   "mimetype": "text/x-python",
   "name": "python",
   "nbconvert_exporter": "python",
   "pygments_lexer": "ipython3",
   "version": "3.8.6"
  }
 },
 "nbformat": 4,
 "nbformat_minor": 2
}
